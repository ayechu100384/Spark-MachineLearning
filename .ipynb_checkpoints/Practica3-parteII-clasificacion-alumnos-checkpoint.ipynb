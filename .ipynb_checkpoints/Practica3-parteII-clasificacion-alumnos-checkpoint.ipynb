{
 "cells": [
  {
   "cell_type": "markdown",
   "metadata": {},
   "source": [
    "# Computación Avanzada y sus Aplicaciones a Ingeniería\n",
    "\n",
    "### Máster Universitario en Ingeniería Informática\n",
    "\n",
    "\n",
    "# Práctica 3 - Parte II - Clasificación\n",
    "\n",
    "En esta práctica afrontaremos un problema de clasificación con la librería de Spark MLib.\n",
    "\n",
    "Ten en cuenta que una vez tengas en marcha Spark, podrás visualizar la evolución de cada trabajo de Spark en  <http://localhost:4040>"
   ]
  },
  {
   "cell_type": "markdown",
   "metadata": {},
   "source": [
    "En caso de estar utilizando pySpark, **NO** es necesario inicializar el `SparkSession`, es decir, **no** ejecutar la siguiente celda"
   ]
  },
  {
   "cell_type": "code",
   "execution_count": 1,
   "metadata": {
    "collapsed": true
   },
   "outputs": [],
   "source": [
    "from pyspark.sql import SparkSession\n",
    "\n",
    "spark = SparkSession \\\n",
    "    .builder \\\n",
    "    .master(\"local[*]\") \\\n",
    "    .appName(\"Ejemplo pySparkSQL\") \\\n",
    "    .config(\"spark.sql.warehouse.dir\", \"file:///D:/tmp/spark-warehouse\") \\\n",
    "    .getOrCreate()\n",
    "\n",
    "sc = spark.sparkContext\n"
   ]
  },
  {
   "cell_type": "markdown",
   "metadata": {},
   "source": [
    "En caso de estar usando pySpark, ejecutar el siguiente comando o inciiar pyspark con \n",
    "\n",
    "`pyspark --conf spark.sql.warehouse.dir=file:///D:/tmp/spark-warehouse`"
   ]
  },
  {
   "cell_type": "markdown",
   "metadata": {},
   "source": [
    "Otros imports necesarios:"
   ]
  },
  {
   "cell_type": "code",
   "execution_count": 2,
   "metadata": {
    "collapsed": true
   },
   "outputs": [],
   "source": [
    "%matplotlib inline \n",
    "import matplotlib.pyplot as plt\n",
    "from test_helper import Test\n",
    "from pyspark.sql.functions import *\n",
    "from pyspark.sql import Row"
   ]
  },
  {
   "cell_type": "markdown",
   "metadata": {},
   "source": [
    "# Construcción y ajuste de los parámetros de una Pipeline\n",
    "\n",
    "Generalmente, una pipeline de ML incluye una serie de fases como son el preprocesamiento, la extracción de características, el ajuste del modelo  y la validación.\n",
    "\n",
    "Por ejemplo, para clasificar documentos de texto tendríamos la segmentación/limpieza, extracción de características y el entrenamiento del modelo con validación cruzada para el ajuste de parámetros.\n",
    "\n",
    "Aunque existen muchas librerías para cada fase, trabajar con todas no suele ser demasiado fácil, especialmente cuando trabajamos con datasets grandes. Aquí es donde ML de Spark aporta su granito de arena.\n",
    "\n",
    "En esta práctica vamos a ver como afrontar un problema de clasificación de textos simple como ejemplo de una pipeline de ML para clasificación con Spark MLlib."
   ]
  },
  {
   "cell_type": "code",
   "execution_count": 3,
   "metadata": {
    "collapsed": true
   },
   "outputs": [],
   "source": [
    "# Imports necesarios de `spark.ml`.\n",
    "from pyspark.ml import *\n",
    "from pyspark.ml.classification import *\n",
    "from pyspark.ml.feature import *\n",
    "from pyspark.ml.param import *\n",
    "from pyspark.ml.tuning import *\n",
    "from pyspark.ml.evaluation import *"
   ]
  },
  {
   "cell_type": "markdown",
   "metadata": {},
   "source": [
    "### El dataset \"20 Newsgroups\"\n",
    "\n",
    "En este caso vamos a trabajar con una versión simplificada del dataset 20 newsgroups. Este dataset tiene una colección de artículos de noticias clasificadas en 20 grupos diferentes.\n",
    "\n",
    "El dataset original se pueden encontrar en  https://archive.ics.uci.edu/ml/datasets/Twenty+Newsgroups.\n",
    "\n",
    "Para simplificar la tarea, el que podéis encontrar en las prácticas es una versión simplificada del dataset, donde los 20 grupos los dejamos en 2. Trataremos de saber si un artículo está relacionado con ciencia o no.\n",
    "\n",
    "El dataset que tenéis disponible está ya disponible para leerse como un DataFrame (en el original es necesario leer cada fichero y transformarlo ligeramente). El formato en el que está almacenado es Parquet, el formato binario por defecto utilizado por Spark.\n",
    "\n",
    "Descargar el fichero y dejarlo en datos/20newsgropuBinaryFiltered/"
   ]
  },
  {
   "cell_type": "code",
   "execution_count": 4,
   "metadata": {},
   "outputs": [
    {
     "name": "stdout",
     "output_type": "stream",
     "text": [
      "Ficheros en la carpeta:\n"
     ]
    },
    {
     "data": {
      "text/plain": [
       "['.part-r-00000-ef9ac4e4-a6ba-49ff-817a-eb473f8c07de.snappy.parquet.crc',\n",
       " '.part-r-00001-ef9ac4e4-a6ba-49ff-817a-eb473f8c07de.snappy.parquet.crc',\n",
       " '.part-r-00002-ef9ac4e4-a6ba-49ff-817a-eb473f8c07de.snappy.parquet.crc',\n",
       " '.part-r-00003-ef9ac4e4-a6ba-49ff-817a-eb473f8c07de.snappy.parquet.crc',\n",
       " '._SUCCESS.crc',\n",
       " 'part-r-00000-ef9ac4e4-a6ba-49ff-817a-eb473f8c07de.snappy.parquet',\n",
       " 'part-r-00001-ef9ac4e4-a6ba-49ff-817a-eb473f8c07de.snappy.parquet',\n",
       " 'part-r-00002-ef9ac4e4-a6ba-49ff-817a-eb473f8c07de.snappy.parquet',\n",
       " 'part-r-00003-ef9ac4e4-a6ba-49ff-817a-eb473f8c07de.snappy.parquet',\n",
       " '_SUCCESS']"
      ]
     },
     "execution_count": 4,
     "metadata": {},
     "output_type": "execute_result"
    }
   ],
   "source": [
    "dbfs_dir = \"./datos/20newsgropuBinaryFiltered/\"\n",
    "import os\n",
    "print \"Ficheros en la carpeta:\"\n",
    "os.listdir(dbfs_dir)"
   ]
  },
  {
   "cell_type": "code",
   "execution_count": 5,
   "metadata": {},
   "outputs": [
    {
     "name": "stdout",
     "output_type": "stream",
     "text": [
      "1 test passed.\n"
     ]
    }
   ],
   "source": [
    "Test.assertEquals(len(os.listdir(dbfs_dir)), 10, 'La carpeta contiene 10 ficheros')"
   ]
  },
  {
   "cell_type": "markdown",
   "metadata": {},
   "source": [
    "Utiliza `spark.read.parquet` para leer la carpeta.\n",
    "\n",
    "Posteriormente, utilizando [randomSplit](http://spark.apache.org/docs/latest/api/python/pyspark.sql.html#pyspark.sql.DataFrame.randomSplit) divide el DataFrame en el conjunto de training (60%) y el conjunto de test (40%), utilizando la semilla incluida.\n",
    "\n",
    "Finalmente, cachea los dos DataFrames."
   ]
  },
  {
   "cell_type": "code",
   "execution_count": 6,
   "metadata": {},
   "outputs": [
    {
     "data": {
      "text/plain": [
       "DataFrame[label: int, topic: string, id: string, text: string]"
      ]
     },
     "execution_count": 6,
     "metadata": {},
     "output_type": "execute_result"
    }
   ],
   "source": [
    "#df = spark.read.format(\"csv\").options(header=True).load(\"datos/Bike-Sharing-Dataset/hour.csv\")\n",
    "df = spark.read.parquet(dbfs_dir)\n",
    "seed = 12418L\n",
    "(training, test) = df.randomSplit(weights=[6.0, 4.0], seed=seed)\n",
    "\n",
    "training.cache()\n",
    "test.cache()"
   ]
  },
  {
   "cell_type": "code",
   "execution_count": 10,
   "metadata": {},
   "outputs": [
    {
     "name": "stdout",
     "output_type": "stream",
     "text": [
      "1 test passed.\n",
      "1 test passed.\n",
      "1 test passed.\n",
      "1 test passed.\n"
     ]
    }
   ],
   "source": [
    "Test.assertEquals(training.count(), 11931,  \"Número de ejemplos en training incorrecto\")\n",
    "Test.assertEquals(test.count(), 8066, \"Número de ejemplos en test incorrecto\")\n",
    "Test.assertEquals(training.is_cached,True, 'Training no cacheado')\n",
    "Test.assertEquals(test.is_cached, True, 'Test no cacheado')"
   ]
  },
  {
   "cell_type": "markdown",
   "metadata": {},
   "source": [
    "Vamos a ver qué forma tiene el DataFrame que tenemos disponible."
   ]
  },
  {
   "cell_type": "code",
   "execution_count": 11,
   "metadata": {},
   "outputs": [
    {
     "name": "stdout",
     "output_type": "stream",
     "text": [
      "+-----+-----------+-----+--------------------+\n",
      "|label|      topic|   id|                text|\n",
      "+-----+-----------+-----+--------------------+\n",
      "|    0|alt.atheism|49960|From: mathew <mat...|\n",
      "|    0|alt.atheism|51119|From: I3150101@db...|\n",
      "|    0|alt.atheism|51120|From: mathew <mat...|\n",
      "|    0|alt.atheism|51122|From: I3150101@db...|\n",
      "|    0|alt.atheism|51124|From: I3150101@db...|\n",
      "|    0|alt.atheism|51127|From: keith@cco.c...|\n",
      "|    0|alt.atheism|51128|From: keith@cco.c...|\n",
      "|    0|alt.atheism|51129|From: keith@cco.c...|\n",
      "|    0|alt.atheism|51134|From: bobbe@vice....|\n",
      "|    0|alt.atheism|51136|From: bobbe@vice....|\n",
      "+-----+-----------+-----+--------------------+\n",
      "only showing top 10 rows\n",
      "\n"
     ]
    }
   ],
   "source": [
    "training.show(10)"
   ]
  },
  {
   "cell_type": "markdown",
   "metadata": {},
   "source": [
    "Podemos explorar el dataset estudiando la distribución de tópicos existente.\n",
    "\n",
    "Para ello crea una consulta que agrupe las noticias por `topic` y cuente cuántas noticias hay en cada uno. Almacena esta información en un DataFrame `topicCount` y muéstrala con show()."
   ]
  },
  {
   "cell_type": "code",
   "execution_count": 12,
   "metadata": {},
   "outputs": [
    {
     "name": "stdout",
     "output_type": "stream",
     "text": [
      "+--------------------+-----+\n",
      "|               topic|count|\n",
      "+--------------------+-----+\n",
      "|      comp.windows.x|  597|\n",
      "|        misc.forsale|  596|\n",
      "|    rec.sport.hockey|  583|\n",
      "|  rec.sport.baseball|  619|\n",
      "|  talk.politics.guns|  609|\n",
      "|comp.os.ms-window...|  596|\n",
      "|  talk.politics.misc|  608|\n",
      "|comp.sys.ibm.pc.h...|  622|\n",
      "|       comp.graphics|  576|\n",
      "|soc.religion.chri...|  608|\n",
      "|comp.sys.mac.hard...|  599|\n",
      "|  talk.religion.misc|  594|\n",
      "|talk.politics.mid...|  608|\n",
      "|     rec.motorcycles|  599|\n",
      "|           rec.autos|  593|\n",
      "|         alt.atheism|  598|\n",
      "|     sci.electronics|  573|\n",
      "|           sci.space|  574|\n",
      "|             sci.med|  599|\n",
      "|           sci.crypt|  580|\n",
      "+--------------------+-----+\n",
      "\n"
     ]
    }
   ],
   "source": [
    "topicCount= training.groupBy('topic').count()\n",
    "topicCount.show()"
   ]
  },
  {
   "cell_type": "code",
   "execution_count": 13,
   "metadata": {},
   "outputs": [
    {
     "name": "stdout",
     "output_type": "stream",
     "text": [
      "1 test passed.\n"
     ]
    }
   ],
   "source": [
    "Test.assertEquals(sorted(topicCount.collect()), [(u'alt.atheism', 598), (u'comp.graphics', 576), (u'comp.os.ms-windows.misc', 596), \n",
    "                                                 (u'comp.sys.ibm.pc.hardware', 622), (u'comp.sys.mac.hardware', 599),\n",
    "                                                 (u'comp.windows.x', 597), (u'misc.forsale', 596), (u'rec.autos', 593), \n",
    "                                                 (u'rec.motorcycles', 599), (u'rec.sport.baseball', 619), (u'rec.sport.hockey', 583),\n",
    "                                                 (u'sci.crypt', 580), (u'sci.electronics', 573), (u'sci.med', 599), (u'sci.space', 574),\n",
    "                                                 (u'soc.religion.christian', 608), (u'talk.politics.guns', 609), \n",
    "                                                 (u'talk.politics.mideast', 608), (u'talk.politics.misc', 608), \n",
    "                                                 (u'talk.religion.misc', 594)], \"Conteo por tópic incorrecto\")"
   ]
  },
  {
   "cell_type": "markdown",
   "metadata": {},
   "source": [
    "Dado que nuestro objetivo es predecir la etiqueta `label`, es decir, si el artículo está relacionado con la ciencia o no, es interesante observar la distribución de ejemplos por etiqueta.\n",
    "\n",
    "Utiliza para ello el método `groupBy` seguido de `count`para obtener el número de ejemplos por etiqueta que tenemos en el dataset de train. Almacena el resultado en el DataFrame `labelCount` y utiliza show() para mostrarlo."
   ]
  },
  {
   "cell_type": "code",
   "execution_count": 14,
   "metadata": {},
   "outputs": [
    {
     "name": "stdout",
     "output_type": "stream",
     "text": [
      "+-----+-----+\n",
      "|label|count|\n",
      "+-----+-----+\n",
      "|    1| 2326|\n",
      "|    0| 9605|\n",
      "+-----+-----+\n",
      "\n"
     ]
    }
   ],
   "source": [
    "labelCount = training.groupBy('label').count()\n",
    "labelCount.show()"
   ]
  },
  {
   "cell_type": "code",
   "execution_count": 15,
   "metadata": {},
   "outputs": [
    {
     "name": "stdout",
     "output_type": "stream",
     "text": [
      "1 test passed.\n"
     ]
    }
   ],
   "source": [
    "Test.assertEquals(sorted(labelCount.collect()), [(0, 9605),(1, 2326)], \"Conteo por tópic incorrecto\")"
   ]
  },
  {
   "cell_type": "markdown",
   "metadata": {},
   "source": [
    "### Construcción de la Pipeline para clasificar artículos de noticias\n",
    "\n",
    "Nuestra pipline tendrá las siguientes etapas:\n",
    "\n",
    "1. **RegexTokenizer**, tokeniza cada artículo a secuencias de palabras con un patrón de expresiones regulares,\n",
    "2. **HashingTF**, mapea las secuencias de palabras producidas por RegexTokenizer a vectores de características dispersos usando hashing (no nos dentendremos en ver cómo lo hace, simplemente sabemos que coge listas de palabras y nos da un vectore de características),\n",
    "3. **LogisticRegression**, entrena un modelo de regresión logísticas usando los vectores de características y las etiquetas del conjunto de entrenamiento.\n",
    "\n",
    "<img src=\"http://spark.apache.org/docs/latest/img/ml-Pipeline.png\" style=\"width: 800px;\"/>"
   ]
  },
  {
   "cell_type": "code",
   "execution_count": 16,
   "metadata": {
    "collapsed": true
   },
   "outputs": [],
   "source": [
    "# Debemos construir cada fase de la Pipeline con sus parámetros y finalmente crear la Pipeline\n",
    "\n",
    "# Tokenizer: columna de entrada = test, columna de salida = words y patrón a buscar s+ (dividimos por espacios)\n",
    "tokenizer = RegexTokenizer(inputCol=\"text\", outputCol=\"words\", pattern=\"s+\")\n",
    "\n",
    "# HashingTF: indicamos la columna de entrada como la de salida del tokenizer, la de salida = features y el número de caraccterísticas a obtener (5000)\n",
    "hashingTF = HashingTF(inputCol=tokenizer.getOutputCol(), outputCol=\"features\", numFeatures=5000)\n",
    "\n",
    "# Regresión logística con 20 iteraciones y parámetro de regularización = 0.01\n",
    "lr = LogisticRegression(maxIter=20, regParam=0.01)\n",
    "\n",
    "# Creamos la pipline de ML como una lista de fases\n",
    "pipeline = Pipeline(stages=[tokenizer, hashingTF, lr])"
   ]
  },
  {
   "cell_type": "code",
   "execution_count": 18,
   "metadata": {},
   "outputs": [],
   "source": [
    "# Una vez construida la pipeline, podemos entrenar el modelo con el conjunto de training\n",
    "# Utiliza fit para ajustar el modelo al training\n",
    "model = pipeline.fit(training)"
   ]
  },
  {
   "cell_type": "markdown",
   "metadata": {},
   "source": [
    "### Comprobar y evaluar las predicciones\n",
    "\n",
    "Una vez obtenido el PipelineModel, queremos saber cómo se comporta.\n",
    "Primero lo haremos visualizando las etiquetas predichas."
   ]
  },
  {
   "cell_type": "code",
   "execution_count": 19,
   "metadata": {},
   "outputs": [
    {
     "name": "stdout",
     "output_type": "stream",
     "text": [
      "+----------+-----+--------------------+\n",
      "|prediction|label|                text|\n",
      "+----------+-----+--------------------+\n",
      "|       0.0|    0|From: mathew <mat...|\n",
      "|       0.0|    0|From: I3150101@db...|\n",
      "|       0.0|    0|From: mathew <mat...|\n",
      "|       0.0|    0|From: I3150101@db...|\n",
      "|       0.0|    0|From: I3150101@db...|\n",
      "|       0.0|    0|From: keith@cco.c...|\n",
      "|       0.0|    0|From: keith@cco.c...|\n",
      "|       0.0|    0|From: keith@cco.c...|\n",
      "|       0.0|    0|From: bobbe@vice....|\n",
      "|       0.0|    0|From: bobbe@vice....|\n",
      "|       0.0|    0|From: smullins@ci...|\n",
      "|       0.0|    0|From: halat@pooh....|\n",
      "|       0.0|    0|From: dgraham@bme...|\n",
      "|       0.0|    0|From: keith@cco.c...|\n",
      "|       0.0|    0|From: livesey@sol...|\n",
      "|       0.0|    0|From: livesey@sol...|\n",
      "|       0.0|    0|From: anthropo@ca...|\n",
      "|       0.0|    0|From: keith@cco.c...|\n",
      "|       0.0|    0|From: acooper@mac...|\n",
      "|       0.0|    0|From: Nanci Ann M...|\n",
      "+----------+-----+--------------------+\n",
      "only showing top 20 rows\n",
      "\n"
     ]
    }
   ],
   "source": [
    "# Utiliza transform para predecir los resultados sobre el conjunto de training\n",
    "prediction = model.transform(training)\n",
    "\n",
    "# Muestra las etiquetas predichas junto con las reales y el testo (prediction, label y text)\n",
    "# Show the predicted labels along with true labels and raw texts.\n",
    "prediction.select(\"prediction\", \"label\", \"text\").show()"
   ]
  },
  {
   "cell_type": "markdown",
   "metadata": {},
   "source": [
    "Parece que los resultados sobre training son buenos. Pero vamos a ver el resultado cuantitativo."
   ]
  },
  {
   "cell_type": "code",
   "execution_count": 21,
   "metadata": {},
   "outputs": [
    {
     "data": {
      "text/plain": [
       "0.9997319082252888"
      ]
     },
     "execution_count": 21,
     "metadata": {},
     "output_type": "execute_result"
    }
   ],
   "source": [
    "# Creamos un evaluador para clasificación binaria usando el área bajo la curva ROC\n",
    "evaluator = BinaryClassificationEvaluator(metricName=\"areaUnderROC\")\n",
    "\n",
    "# Utiliza el evaluador creado con el método evaluate para obtener el AUC del modelo sobre train\n",
    "evaluator.evaluate(prediction)"
   ]
  },
  {
   "cell_type": "markdown",
   "metadata": {},
   "source": [
    "El resultado en training es prácticamente perfecto, pero esto suele ser muchas veces una pista de que estamos sobrentrenando. Veamos el resultado sobre test."
   ]
  },
  {
   "cell_type": "code",
   "execution_count": 36,
   "metadata": {},
   "outputs": [
    {
     "data": {
      "text/plain": [
       "0.9613702836430874"
      ]
     },
     "execution_count": 36,
     "metadata": {},
     "output_type": "execute_result"
    }
   ],
   "source": [
    "# Utiliza el método evaluate del evaluador y el método transform del modelo para obtener las predicciones sobre test y posteriomente evaluarlas\n",
    "evaluator.evaluate(model.transform(test))"
   ]
  },
  {
   "cell_type": "markdown",
   "metadata": {},
   "source": [
    "El AUC sobre test es mucho más pequeño.\n",
    "Parece que tenemos algún problema más aparte del sobreentrenamiento. \n",
    "Estudiemos las fases establecidas."
   ]
  },
  {
   "cell_type": "markdown",
   "metadata": {},
   "source": [
    "## Comprobación de la Pipeline"
   ]
  },
  {
   "cell_type": "markdown",
   "metadata": {},
   "source": [
    "Las predicciones de la pipline tienen también resultados intermedios de cada fase:\n",
    "* \"words\" del tokenizer,\n",
    "* \"features\" del hashing ,\n",
    "* \"prediction\", \"probability\", y \"rawPredictions\" de la regresión logística.\n",
    "\n",
    "Veamos el esquema de \"prediction\"."
   ]
  },
  {
   "cell_type": "code",
   "execution_count": 23,
   "metadata": {},
   "outputs": [
    {
     "name": "stdout",
     "output_type": "stream",
     "text": [
      "root\n",
      " |-- label: integer (nullable = true)\n",
      " |-- topic: string (nullable = true)\n",
      " |-- id: string (nullable = true)\n",
      " |-- text: string (nullable = true)\n",
      " |-- words: array (nullable = true)\n",
      " |    |-- element: string (containsNull = true)\n",
      " |-- features: vector (nullable = true)\n",
      " |-- rawPrediction: vector (nullable = true)\n",
      " |-- probability: vector (nullable = true)\n",
      " |-- prediction: double (nullable = true)\n",
      "\n"
     ]
    }
   ],
   "source": [
    "prediction.printSchema()"
   ]
  },
  {
   "cell_type": "markdown",
   "metadata": {},
   "source": [
    "Podemos mirar todas las columnas usando show() sobre prediction.\n",
    "\n",
    "¿Qué no nos cuadra?"
   ]
  },
  {
   "cell_type": "code",
   "execution_count": 24,
   "metadata": {},
   "outputs": [
    {
     "name": "stdout",
     "output_type": "stream",
     "text": [
      "+-----+-----------+-----+--------------------+--------------------+--------------------+--------------------+--------------------+----------+\n",
      "|label|      topic|   id|                text|               words|            features|       rawPrediction|         probability|prediction|\n",
      "+-----+-----------+-----+--------------------+--------------------+--------------------+--------------------+--------------------+----------+\n",
      "|    0|alt.atheism|49960|From: mathew <mat...|[from: mathew <ma...|(5000,[10,18,20,4...|[31.5751023364328...|[0.99999999999998...|       0.0|\n",
      "|    0|alt.atheism|51119|From: I3150101@db...|[from: i3150101@d...|(5000,[12,14,44,4...|[10.0912542735155...|[0.99995856131582...|       0.0|\n",
      "|    0|alt.atheism|51120|From: mathew <mat...|[from: mathew <ma...|(5000,[13,17,20,5...|[2.60344796911761...|[0.93108315569236...|       0.0|\n",
      "|    0|alt.atheism|51122|From: I3150101@db...|[from: i3150101@d...|(5000,[15,44,46,6...|[9.05806892958553...|[0.99988356593029...|       0.0|\n",
      "|    0|alt.atheism|51124|From: I3150101@db...|[from: i3150101@d...|(5000,[44,60,69,7...|[8.18971340502556...|[0.99972258358016...|       0.0|\n",
      "|    0|alt.atheism|51127|From: keith@cco.c...|[from: keith@cco....|(5000,[159,309,48...|[5.06176374615987...|[0.99370549435367...|       0.0|\n",
      "|    0|alt.atheism|51128|From: keith@cco.c...|[from: keith@cco....|(5000,[109,364,40...|[5.42308102132943...|[0.99560586612493...|       0.0|\n",
      "|    0|alt.atheism|51129|From: keith@cco.c...|[from: keith@cco....|(5000,[58,199,283...|[6.34330727120593...|[0.99824460996351...|       0.0|\n",
      "|    0|alt.atheism|51134|From: bobbe@vice....|[from: bobbe@vice...|(5000,[58,146,201...|[7.06354107870590...|[0.99914498919804...|       0.0|\n",
      "|    0|alt.atheism|51136|From: bobbe@vice....|[from: bobbe@vice...|(5000,[1,17,182,2...|[3.98123525616257...|[0.98167933862611...|       0.0|\n",
      "+-----+-----------+-----+--------------------+--------------------+--------------------+--------------------+--------------------+----------+\n",
      "only showing top 10 rows\n",
      "\n"
     ]
    }
   ],
   "source": [
    "prediction.show(10)"
   ]
  },
  {
   "cell_type": "markdown",
   "metadata": {},
   "source": [
    "Si nos fijamos bien, la columna \"words\" debería tener un array de strings con palabras, pero sin embargo vemos que algo no ha ido bien. Por lo que parece que el tokenizer no está funcionando"
   ]
  },
  {
   "cell_type": "markdown",
   "metadata": {},
   "source": [
    "Vamos a usar `explainParams` sobre el tokenizer para ver los parámetros establecidos y su documentación."
   ]
  },
  {
   "cell_type": "code",
   "execution_count": 25,
   "metadata": {},
   "outputs": [
    {
     "name": "stdout",
     "output_type": "stream",
     "text": [
      "gaps: whether regex splits on gaps (True) or matches tokens (False) (default: True)\n",
      "inputCol: input column name. (current: text)\n",
      "minTokenLength: minimum token length (>= 0) (default: 1)\n",
      "outputCol: output column name. (default: RegexTokenizer_469a981a37af25f5b39b__output, current: words)\n",
      "pattern: regex pattern (Java dialect) used for tokenizing (default: \\s+, current: s+)\n",
      "toLowercase: whether to convert all characters to lowercase before tokenizing (default: True)\n"
     ]
    }
   ],
   "source": [
    "print tokenizer.explainParams()"
   ]
  },
  {
   "cell_type": "markdown",
   "metadata": {},
   "source": [
    "¡Cuidado! Nos hemos olvidado de la contrabarra en la expresión regular... Debe ser \"\\s+\" y no \"s+\". Vamos a corregirlo..."
   ]
  },
  {
   "cell_type": "code",
   "execution_count": 31,
   "metadata": {},
   "outputs": [
    {
     "name": "stdout",
     "output_type": "stream",
     "text": [
      "gaps: whether regex splits on gaps (True) or matches tokens (False) (default: True)\n",
      "inputCol: input column name. (current: text)\n",
      "minTokenLength: minimum token length (>= 0) (default: 1)\n",
      "outputCol: output column name. (default: RegexTokenizer_469a981a37af25f5b39b__output, current: words)\n",
      "pattern: regex pattern (Java dialect) used for tokenizing (default: \\s+, current: \\s+)\n",
      "toLowercase: whether to convert all characters to lowercase before tokenizing (default: True)\n"
     ]
    }
   ],
   "source": [
    "# Utiliza el método setPattern de tokenizer para poner el patrónSet the value of \"pattern\" back to \"\\s+\",\n",
    "# necesitarás incluir una doble contrabarra \"\\\\s+\"\n",
    "tokenizer.setPattern(value=\"\\\\s+\")\n",
    "print tokenizer.explainParams()"
   ]
  },
  {
   "cell_type": "code",
   "execution_count": 32,
   "metadata": {
    "collapsed": true
   },
   "outputs": [],
   "source": [
    "# Entrenamos el modelo de nuevo\n",
    "model = pipeline.fit(training)"
   ]
  },
  {
   "cell_type": "code",
   "execution_count": 33,
   "metadata": {},
   "outputs": [
    {
     "name": "stdout",
     "output_type": "stream",
     "text": [
      "+-----+-----------+-----+--------------------+--------------------+--------------------+--------------------+--------------------+----------+\n",
      "|label|      topic|   id|                text|               words|            features|       rawPrediction|         probability|prediction|\n",
      "+-----+-----------+-----+--------------------+--------------------+--------------------+--------------------+--------------------+----------+\n",
      "|    0|alt.atheism|49960|From: mathew <mat...|[from:, mathew, <...|(5000,[1,21,23,30...|[26.6746362960874...|[0.99999999999739...|       0.0|\n",
      "|    0|alt.atheism|51119|From: I3150101@db...|[from:, i3150101@...|(5000,[19,76,78,8...|[2.91331462750431...|[0.94850071540962...|       0.0|\n",
      "|    0|alt.atheism|51120|From: mathew <mat...|[from:, mathew, <...|(5000,[91,143,153...|[9.55014157499995...|[0.99992881388436...|       0.0|\n",
      "|    0|alt.atheism|51122|From: I3150101@db...|[from:, i3150101@...|(5000,[2,9,19,28,...|[6.80827698101851...|[0.99889662428421...|       0.0|\n",
      "|    0|alt.atheism|51124|From: I3150101@db...|[from:, i3150101@...|(5000,[19,76,87,9...|[6.2696842295944,...|[0.99811074983484...|       0.0|\n",
      "|    0|alt.atheism|51127|From: keith@cco.c...|[from:, keith@cco...|(5000,[18,23,300,...|[3.27315941763920...|[0.96349645458659...|       0.0|\n",
      "|    0|alt.atheism|51128|From: keith@cco.c...|[from:, keith@cco...|(5000,[36,291,388...|[5.16897446124303...|[0.99434179589822...|       0.0|\n",
      "|    0|alt.atheism|51129|From: keith@cco.c...|[from:, keith@cco...|(5000,[76,91,128,...|[2.95681279547150...|[0.95058449422590...|       0.0|\n",
      "|    0|alt.atheism|51134|From: bobbe@vice....|[from:, bobbe@vic...|(5000,[63,150,232...|[3.28226755178394...|[0.96381544824082...|       0.0|\n",
      "|    0|alt.atheism|51136|From: bobbe@vice....|[from:, bobbe@vic...|(5000,[1,8,23,76,...|[6.69493571979890...|[0.99876436728041...|       0.0|\n",
      "+-----+-----------+-----+--------------------+--------------------+--------------------+--------------------+--------------------+----------+\n",
      "only showing top 10 rows\n",
      "\n"
     ]
    }
   ],
   "source": [
    "# Comprobamso las predicciones y que las palabras tiene buena pinta\n",
    "prediction = model.transform(training)\n",
    "prediction.show(10)"
   ]
  },
  {
   "cell_type": "code",
   "execution_count": 34,
   "metadata": {},
   "outputs": [
    {
     "data": {
      "text/plain": [
       "0.9998549542706467"
      ]
     },
     "execution_count": 34,
     "metadata": {},
     "output_type": "execute_result"
    }
   ],
   "source": [
    "# Evaluamos el modelo en train y en test\n",
    "evaluator.evaluate(prediction)"
   ]
  },
  {
   "cell_type": "code",
   "execution_count": 35,
   "metadata": {},
   "outputs": [
    {
     "data": {
      "text/plain": [
       "0.9613702836430876"
      ]
     },
     "execution_count": 35,
     "metadata": {},
     "output_type": "execute_result"
    }
   ],
   "source": [
    "evaluator.evaluate(model.transform(test))"
   ]
  },
  {
   "cell_type": "markdown",
   "metadata": {},
   "source": [
    "Ahora sí que parece que funciona mejor, aunque seguimos teniendo algo de sobrentrenamiento.\n",
    "Para mejorar el error de generalización podemos ajustar los parámetros de la Pipeline."
   ]
  },
  {
   "cell_type": "markdown",
   "metadata": {},
   "source": [
    "## Ajuste de parámetros mediante validación cruzada\n",
    "\n",
    "Podemos usar la validación cruzada en MLlib mediante `CrossValidator`.\n",
    "\n",
    "Se toma una lista de combinaciones de parámetros y una medida de evaluación y él automáticamente busca la mejor combinación mediante validación cruzada.\n",
    "\n",
    "Consulta la siguiente documentación para preparar la validación cruzada.\n",
    "\n",
    "[CrossValidator](http://spark.apache.org/docs/2.0.2/api/python/pyspark.ml.html#pyspark.ml.tuning.CrossValidator)\n",
    "\n",
    "[ParamGridBuilder](http://spark.apache.org/docs/2.0.2/api/python/pyspark.ml.html#pyspark.ml.tuning.ParamGridBuilder)"
   ]
  },
  {
   "cell_type": "code",
   "execution_count": 40,
   "metadata": {},
   "outputs": [],
   "source": [
    "# Las combinaciones de parámetros se generan como todas las posibles combinaciones entre los diferentes parámetros establecidos\n",
    "# Para simplificarlo, solo usaremos diferentes parámetros de hashing TF y del parámetro de regularización de la regresión\n",
    "# Utiliza ParamGridBuilder para considerar los siguientes parámetros\n",
    "# hashingTF.numFeatures = [1000, 10000]\n",
    "# lr.regParam = [0.05, 0.2]\n",
    "\n",
    "paramGrid = ParamGridBuilder() \\\n",
    "    .addGrid(hashingTF.numFeatures, [1000, 10000]) \\\n",
    "    .addGrid(lr.regParam, [0.05, 0.2]) \\\n",
    "    .build()\n",
    "\n",
    "# Creamos un CrossValidator para ajustar la pipeline\n",
    "# Utilizamos como estimator la pipeline, como evaluator el evaluator ya definido y como parámetros paramGrid.\n",
    "# Para que tarde menos utiliza solo 2 particiones\n",
    "\n",
    "cv = CrossValidator(estimator=pipeline,\n",
    "                          estimatorParamMaps=paramGrid,\n",
    "                          evaluator=evaluator,\n",
    "                          numFolds=2)"
   ]
  },
  {
   "cell_type": "markdown",
   "metadata": {},
   "source": [
    "Ajustar un modelo de validación cruzada funciona igual que hacerlo con la Pipeline. Llevará más tiempo porque se ajustan muchos más modelos para elegir el mejor."
   ]
  },
  {
   "cell_type": "code",
   "execution_count": 41,
   "metadata": {
    "collapsed": true
   },
   "outputs": [],
   "source": [
    "# Utiliza fit sobre cv para obtener el modelo entrenado con el conjunto de training\n",
    "cvModel = cv.fit(training)"
   ]
  },
  {
   "cell_type": "markdown",
   "metadata": {},
   "source": [
    "Veamos los resultados que obtenemos ahora"
   ]
  },
  {
   "cell_type": "code",
   "execution_count": 42,
   "metadata": {},
   "outputs": [
    {
     "data": {
      "text/plain": [
       "0.9991227206380309"
      ]
     },
     "execution_count": 42,
     "metadata": {},
     "output_type": "execute_result"
    }
   ],
   "source": [
    "evaluator.evaluate(cvModel.transform(training))"
   ]
  },
  {
   "cell_type": "code",
   "execution_count": 43,
   "metadata": {},
   "outputs": [
    {
     "data": {
      "text/plain": [
       "0.975911309387619"
      ]
     },
     "execution_count": 43,
     "metadata": {},
     "output_type": "execute_result"
    }
   ],
   "source": [
    "evaluator.evaluate(cvModel.transform(test))"
   ]
  },
  {
   "cell_type": "markdown",
   "metadata": {},
   "source": [
    "¡Hemos mejorado en test!\n",
    "Solo hemos probado unas pocas combinaciones de parámetros. Podríamos realizar muchos más experimentos para mejorar todavía más los resultados."
   ]
  }
 ],
 "metadata": {
  "anaconda-cloud": {},
  "kernelspec": {
   "display_name": "Python 2",
   "language": "python",
   "name": "python2"
  },
  "language_info": {
   "codemirror_mode": {
    "name": "ipython",
    "version": 2
   },
   "file_extension": ".py",
   "mimetype": "text/x-python",
   "name": "python",
   "nbconvert_exporter": "python",
   "pygments_lexer": "ipython2",
   "version": "2.7.13"
  },
  "name": "MLPipeline Newsgroup Dataset",
  "notebookId": 3638908530782612
 },
 "nbformat": 4,
 "nbformat_minor": 1
}
