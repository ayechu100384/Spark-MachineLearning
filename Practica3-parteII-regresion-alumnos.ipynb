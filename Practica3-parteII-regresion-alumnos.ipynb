{
 "cells": [
  {
   "cell_type": "markdown",
   "metadata": {},
   "source": [
    "# Computación Avanzada y sus Aplicaciones a Ingeniería\n",
    "\n",
    "### Máster Universitario en Ingeniería Informática\n",
    "\n",
    "\n",
    "# Práctica 3 - Parte II - Regresión\n",
    "\n",
    "En esta práctica afrontaremos un problema de regresión con la librería de Spark MLib.\n",
    "\n",
    "Ten en cuenta que una vez tengas en marcha Spark, podrás visualizar la evolución de cada trabajo de Spark en  <http://localhost:4040>\n",
    "\n",
    "## Análisis de un dataset sobre alquiler de bicicletas\n",
    "\n",
    "En esta práctica vamos a ver cómo usar las Pipelines de ML para entrenar un modelo que sea capaz de predecir valores reales (regresión).\n",
    "\n",
    "**Sobre los datos**: El problema que vamos a afrontar consiste en la predicción del número de bicis que van a ser alquiladas. Para ello, usaremos un dataset con información de los años 2011 y 2012 del sistema Capital usado en la ciudad de Oporto (Portugal). Además tendremos información adicional sobre las condiciones metereológicas. El dataset está disponible en la [UCI Machine Learning Repository](http://archive.ics.uci.edu/ml/datasets/Bike+Sharing+Dataset).\n",
    "\n",
    "**Objetivo**: Queremos predecir cuántas bicis serán alquiladas cada hora en base a la información sobre el día de la semana, el tiempo, la temporada, etc. Lograr buenas predicciones de la demanda permitiría al negocio estar preparado para atender incrementos en la demanda cuando sea necesario, por ejempo.\n",
    "\n",
    "**Aproximación**: Utilizaremos las Pipelines de SparkML. Llevaremos a cabo también la optimización de los parámetros del modelo mediante validación cruzada para mejorar la predicción final."
   ]
  },
  {
   "cell_type": "markdown",
   "metadata": {},
   "source": [
    "En caso de estar utilizando pySpark, **NO** es necesario inicializar el `SparkSession`, es decir, **no** ejecutar la siguiente celda"
   ]
  },
  {
   "cell_type": "code",
   "execution_count": 1,
   "metadata": {
    "collapsed": true
   },
   "outputs": [],
   "source": [
    "from pyspark.sql import SparkSession\n",
    "\n",
    "spark = SparkSession \\\n",
    "    .builder \\\n",
    "    .master(\"local[*]\") \\\n",
    "    .appName(\"Ejemplo pySparkSQL\") \\\n",
    "    .config(\"spark.sql.warehouse.dir\", \"file:///D:/tmp/spark-warehouse\") \\\n",
    "    .getOrCreate()\n",
    "\n",
    "sc = spark.sparkContext"
   ]
  },
  {
   "cell_type": "markdown",
   "metadata": {},
   "source": [
    "En caso de estar usando pySpark, ejecutar el siguiente comando o inciiar pyspark con \n",
    "\n",
    "`pyspark --conf spark.sql.warehouse.dir=file:///D:/tmp/spark-warehouse`"
   ]
  },
  {
   "cell_type": "markdown",
   "metadata": {},
   "source": [
    "Otros imports necesarios:"
   ]
  },
  {
   "cell_type": "code",
   "execution_count": 2,
   "metadata": {
    "collapsed": true
   },
   "outputs": [],
   "source": [
    "%matplotlib inline \n",
    "import matplotlib.pyplot as plt\n",
    "from test_helper import Test\n",
    "from pyspark.sql.functions import *\n",
    "from pyspark.sql import Row"
   ]
  },
  {
   "cell_type": "markdown",
   "metadata": {},
   "source": [
    "## Carga y análisis de los datos\n",
    "\n",
    "Comenzamos cargando los datos que están en formato CSV. Los cargamos en un DataFrame y lo cacheamos"
   ]
  },
  {
   "cell_type": "code",
   "execution_count": 4,
   "metadata": {},
   "outputs": [
    {
     "data": {
      "text/plain": [
       "DataFrame[instant: string, dteday: string, season: string, yr: string, mnth: string, hr: string, holiday: string, weekday: string, workingday: string, weathersit: string, temp: string, atemp: string, hum: string, windspeed: string, casual: string, registered: string, cnt: string]"
      ]
     },
     "execution_count": 4,
     "metadata": {},
     "output_type": "execute_result"
    }
   ],
   "source": [
    "# Utilizar spark.read para leer el fichero con las siguientes opciones\n",
    "#  'format': especificar 'csv'\n",
    "#  'header': establecer a true para indicar que la primera línea es el header\n",
    "# El fichero se llama 'hour.csv'.\n",
    "\n",
    "df = spark.read.format(\"csv\").options(header=True).load(\"datos/Bike-Sharing-Dataset/hour.csv\")\n",
    "\n",
    "# Cachear el DataFrame\n",
    "df.cache()"
   ]
  },
  {
   "cell_type": "code",
   "execution_count": 5,
   "metadata": {},
   "outputs": [
    {
     "name": "stdout",
     "output_type": "stream",
     "text": [
      "1 test passed.\n",
      "1 test passed.\n"
     ]
    }
   ],
   "source": [
    "Test.assertEquals(df.is_cached, True, 'df no cacheado')\n",
    "Test.assertEquals(df.count(), 17379, 'Número de filas en df incorrectas')"
   ]
  },
  {
   "cell_type": "markdown",
   "metadata": {},
   "source": [
    "#### Descripción de los datos\n",
    "\n",
    "Siguiendo la información del repositorio [UCI](http://archive.ics.uci.edu/ml/datasets/Bike+Sharing+Dataset), conocemos el significado de cada una de las columnas.\n",
    "\n",
    "**Columnas que son cracterísticas**:\n",
    "* dteday: fecha\n",
    "* season: estación (1:primavera, 2:verano, 3:otoño, 4:invierno)\n",
    "* yr: año (0:2011, 1:2012)\n",
    "* mnth: mes (1 to 12)\n",
    "* hr: hora (0 to 23)\n",
    "* holiday: si es día festivo o no\n",
    "* weekday: día de la semana\n",
    "* workingday: si el día no es ni fin de semana ni festivo entonces es 1, sino 0\n",
    "* weathersit: \n",
    "  * 1: Sin nubes, pocas nubes, alguna nube\n",
    "  * 2: Niebla + nubes, Niebla + algunas nubes\n",
    "  * 3: Poca nieve, algo de agua, truenos\n",
    "  * 4: Mucha lluvia, nieve\n",
    "* temp: Temperatura normalizada en grados celsius. El valor derivado de `(t-t_min)/(t_max-t_min)`, `t_min=-8`, `t_max=+39` (cada hora)\n",
    "* atemp: Sensación de temperatura normalizada en grados celsius. El valor derivado de `(t-t_min)/(t_max-t_min)`, `t_min=-16`, `t_max=+50` (cada hora)\n",
    "* hum: Humedad normalizada. El valor se divide por 100 (max)\n",
    "* windspeed: Velocidad del viento normalizada. El valor se divide por 67 (max)\n",
    "\n",
    "**Columnas que son etiquetas**:\n",
    "* casual: conteo de usuarios tipo casual\n",
    "* registered: conteo de usuarios registrados\n",
    "* cnt: conteo total de alquileres incluyendo casuals y registrados\n",
    "\n",
    "**Columnas extra**:\n",
    "* instant: índice del registro\n",
    "\n",
    "Por ejemplo, la primera fila es un registro con hora 0 el 1 de enero de 2011 -- y aparentemente 16 personas cogieron una bici a medianoche!"
   ]
  },
  {
   "cell_type": "markdown",
   "metadata": {},
   "source": [
    "Vamos a usar show para ver qué tipo de datos tenemos."
   ]
  },
  {
   "cell_type": "code",
   "execution_count": 6,
   "metadata": {},
   "outputs": [
    {
     "name": "stdout",
     "output_type": "stream",
     "text": [
      "+-------+----------+------+---+----+---+-------+-------+----------+----------+----+------+----+---------+------+----------+---+\n",
      "|instant|    dteday|season| yr|mnth| hr|holiday|weekday|workingday|weathersit|temp| atemp| hum|windspeed|casual|registered|cnt|\n",
      "+-------+----------+------+---+----+---+-------+-------+----------+----------+----+------+----+---------+------+----------+---+\n",
      "|      1|2011-01-01|     1|  0|   1|  0|      0|      6|         0|         1|0.24|0.2879|0.81|        0|     3|        13| 16|\n",
      "|      2|2011-01-01|     1|  0|   1|  1|      0|      6|         0|         1|0.22|0.2727| 0.8|        0|     8|        32| 40|\n",
      "|      3|2011-01-01|     1|  0|   1|  2|      0|      6|         0|         1|0.22|0.2727| 0.8|        0|     5|        27| 32|\n",
      "|      4|2011-01-01|     1|  0|   1|  3|      0|      6|         0|         1|0.24|0.2879|0.75|        0|     3|        10| 13|\n",
      "|      5|2011-01-01|     1|  0|   1|  4|      0|      6|         0|         1|0.24|0.2879|0.75|        0|     0|         1|  1|\n",
      "|      6|2011-01-01|     1|  0|   1|  5|      0|      6|         0|         2|0.24|0.2576|0.75|   0.0896|     0|         1|  1|\n",
      "|      7|2011-01-01|     1|  0|   1|  6|      0|      6|         0|         1|0.22|0.2727| 0.8|        0|     2|         0|  2|\n",
      "|      8|2011-01-01|     1|  0|   1|  7|      0|      6|         0|         1| 0.2|0.2576|0.86|        0|     1|         2|  3|\n",
      "|      9|2011-01-01|     1|  0|   1|  8|      0|      6|         0|         1|0.24|0.2879|0.75|        0|     1|         7|  8|\n",
      "|     10|2011-01-01|     1|  0|   1|  9|      0|      6|         0|         1|0.32|0.3485|0.76|        0|     8|         6| 14|\n",
      "+-------+----------+------+---+----+---+-------+-------+----------+----------+----+------+----+---------+------+----------+---+\n",
      "only showing top 10 rows\n",
      "\n"
     ]
    }
   ],
   "source": [
    "df.show(10)"
   ]
  },
  {
   "cell_type": "markdown",
   "metadata": {},
   "source": [
    "El dataset está perfectamente preparado para usar ML (no necesita prácticamente preprocesamiento): los días de la semana están indexados, todas las columnas excepto `dteday` son numéricas"
   ]
  },
  {
   "cell_type": "code",
   "execution_count": 7,
   "metadata": {},
   "outputs": [
    {
     "name": "stdout",
     "output_type": "stream",
     "text": [
      "El dataset tiene 17379 filas.\n"
     ]
    }
   ],
   "source": [
    "# Calcula cuántas filas tiene el DataFrame\n",
    "print \"El dataset tiene %d filas.\" % df.count()"
   ]
  },
  {
   "cell_type": "markdown",
   "metadata": {},
   "source": [
    "## Preprocesamiento de los datos\n",
    "\n",
    "Vamos a realizar los pasos necesarios para montar el dataset de tal forma que podamos usarlo para aplicar los algoritmos de machine learning.\n",
    "\n",
    "*Objetivo*: Queremos predecir el número de bicis alquiladas (columna `cnt`). Esta será pues nuestra columna con las etiquetas.\n",
    "\n",
    "*Características*: ¿Qué podemos usar como atributos para describir cada fila y predecir `cnt`? Podemos usar el resto de las columnas con algunas excepciones:\n",
    "* Algunas contienen información duplicada. Por ejemplo, `cnt` es la suma de `casual` y `registered`. Eliminaremos estas dos columnas para estar seguros de que no las usamos para predecir `cnt`. **Esto es un problemas importante en ML, estar seguros de que no hacemos trampas usando información que no tenemos para hacer las predicciones**.\n",
    "* Columna `dteday`: Podríamos mantenerla pero está ya bien representada por otras columnas relacionadas `season`, `yr`, `mnth`, y `weekday`.  La eliminaremos.\n",
    "* Columna `instant`: Esta columna no es útil para la predicción.\n"
   ]
  },
  {
   "cell_type": "code",
   "execution_count": 11,
   "metadata": {},
   "outputs": [
    {
     "name": "stdout",
     "output_type": "stream",
     "text": [
      "+------+---+----+---+-------+-------+----------+----------+----+------+----+---------+---+\n",
      "|season| yr|mnth| hr|holiday|weekday|workingday|weathersit|temp| atemp| hum|windspeed|cnt|\n",
      "+------+---+----+---+-------+-------+----------+----------+----+------+----+---------+---+\n",
      "|     1|  0|   1|  0|      0|      6|         0|         1|0.24|0.2879|0.81|        0| 16|\n",
      "|     1|  0|   1|  1|      0|      6|         0|         1|0.22|0.2727| 0.8|        0| 40|\n",
      "|     1|  0|   1|  2|      0|      6|         0|         1|0.22|0.2727| 0.8|        0| 32|\n",
      "|     1|  0|   1|  3|      0|      6|         0|         1|0.24|0.2879|0.75|        0| 13|\n",
      "|     1|  0|   1|  4|      0|      6|         0|         1|0.24|0.2879|0.75|        0|  1|\n",
      "+------+---+----+---+-------+-------+----------+----------+----+------+----+---------+---+\n",
      "only showing top 5 rows\n",
      "\n"
     ]
    }
   ],
   "source": [
    "# Aplicar las transformaciones necesarias para eliminar las columnas instant, dteday, casual y registered (usar drop)\n",
    "df = df.drop('instant')\n",
    "df = df.drop('dteday')\n",
    "df = df.drop('casual')\n",
    "df = df.drop('registered')\n",
    "df.show(5)"
   ]
  },
  {
   "cell_type": "code",
   "execution_count": 12,
   "metadata": {},
   "outputs": [
    {
     "name": "stdout",
     "output_type": "stream",
     "text": [
      "1 test passed.\n",
      "1 test passed.\n",
      "1 test passed.\n",
      "1 test passed.\n"
     ]
    }
   ],
   "source": [
    "Test.assertEquals(\"instant\" in df.columns, False, \"Columna instant no eliminada\")\n",
    "Test.assertEquals(\"dteday\" in df.columns, False, \"Columna dteday no eliminada\")\n",
    "Test.assertEquals(\"casual\" in df.columns, False, \"Columna casual no eliminada\")\n",
    "Test.assertEquals(\"registered\" in df.columns, False, \"Columna registered no eliminada\")"
   ]
  },
  {
   "cell_type": "markdown",
   "metadata": {},
   "source": [
    "Ahora ya solo tenemos las columnas que nos interesan. Veamos el esquema con el tipo de columnas que tenemos."
   ]
  },
  {
   "cell_type": "code",
   "execution_count": 13,
   "metadata": {},
   "outputs": [
    {
     "data": {
      "text/plain": [
       "StructType(List(StructField(season,StringType,true),StructField(yr,StringType,true),StructField(mnth,StringType,true),StructField(hr,StringType,true),StructField(holiday,StringType,true),StructField(weekday,StringType,true),StructField(workingday,StringType,true),StructField(weathersit,StringType,true),StructField(temp,StringType,true),StructField(atemp,StringType,true),StructField(hum,StringType,true),StructField(windspeed,StringType,true),StructField(cnt,StringType,true)))"
      ]
     },
     "execution_count": 13,
     "metadata": {},
     "output_type": "execute_result"
    }
   ],
   "source": [
    "# Imprime el esquema del DataFrame df\n",
    "df.schema"
   ]
  },
  {
   "cell_type": "markdown",
   "metadata": {},
   "source": [
    "En el DataFrame todo son strings!! Pero sabemos que las columnas son realmente numéricas, vamos a pasarlas a números... Esto ha ocurrido porque hemos leídos los datos como un csv."
   ]
  },
  {
   "cell_type": "code",
   "execution_count": 14,
   "metadata": {},
   "outputs": [
    {
     "name": "stdout",
     "output_type": "stream",
     "text": [
      "root\n",
      " |-- season: double (nullable = true)\n",
      " |-- yr: double (nullable = true)\n",
      " |-- mnth: double (nullable = true)\n",
      " |-- hr: double (nullable = true)\n",
      " |-- holiday: double (nullable = true)\n",
      " |-- weekday: double (nullable = true)\n",
      " |-- workingday: double (nullable = true)\n",
      " |-- weathersit: double (nullable = true)\n",
      " |-- temp: double (nullable = true)\n",
      " |-- atemp: double (nullable = true)\n",
      " |-- hum: double (nullable = true)\n",
      " |-- windspeed: double (nullable = true)\n",
      " |-- cnt: double (nullable = true)\n",
      "\n"
     ]
    }
   ],
   "source": [
    "# Esta celda coge todas las columnas (df.columns) y hace un cast usando Spark SQL a numérico (DoubleType).\n",
    "from pyspark.sql.functions import col  # para indicar una columna usando un string\n",
    "df = df.select([col(c).cast(\"double\").alias(c) for c in df.columns])\n",
    "df.printSchema()"
   ]
  },
  {
   "cell_type": "markdown",
   "metadata": {},
   "source": [
    "#### Dividir los datos en training y test\n",
    "\n",
    "Para poder estudiar la validez del modeo creado, vamos a dividir el dataset en dos conjuntos de entrenamiento: train y test. Podemos entrenar y ajustar el modelo usando el training siempre que no usemos el test. Posteriormente, usaremos el conjunto de test para validar el modelo final y ver lo bueno que es para predecir observaciones futuras."
   ]
  },
  {
   "cell_type": "code",
   "execution_count": 20,
   "metadata": {},
   "outputs": [
    {
     "name": "stdout",
     "output_type": "stream",
     "text": [
      "Tenemos 12182 ejemplos en training y 5197 en test.\n"
     ]
    }
   ],
   "source": [
    "# Dividir el dataset en el 70% para train y el 30% para test\n",
    "# Utilizar la transformación randomSplit con la semilla seed\n",
    "seed = 1203123L\n",
    "train, test = df.randomSplit(weights=[7.0, 3.0], seed=seed)\n",
    "print \"Tenemos %d ejemplos en training y %d en test.\" % (train.count(), test.count())"
   ]
  },
  {
   "cell_type": "code",
   "execution_count": 29,
   "metadata": {},
   "outputs": [
    {
     "name": "stdout",
     "output_type": "stream",
     "text": [
      "1 test passed.\n",
      "1 test passed.\n"
     ]
    }
   ],
   "source": [
    "Test.assertEquals(train.count(), 12182, 'Número de ejemplos en train incorrectos')\n",
    "Test.assertEquals(test.count(), 5197, 'Número de ejemplos en train incorrectos')"
   ]
  },
  {
   "cell_type": "markdown",
   "metadata": {},
   "source": [
    "#### Visualización de los datos\n",
    "\n",
    "Ahora que hemos preprocesado las características y preparado nuestro conjunto de entrenamiento podemos visualizar los datos para ver si las características que tenemos son significativas.\n",
    "\n",
    "Para ello vamos a realizar un plot con el número de alquileres que se realizan cada hora (sumamos los conteos que tenemos para cada hora). Veremos así si parece haber una relación entre la hora y el número de alquieleres o no."
   ]
  },
  {
   "cell_type": "code",
   "execution_count": 52,
   "metadata": {},
   "outputs": [],
   "source": [
    "# Obtén un DataFrame en el que para cada hora tengas la suma total de alquileres (agrupar por hora y sumar cnt)\n",
    "# Aplica un collect para traer el DataFrame al driver. Antes del collect ordena el DataFrame por horas\n",
    "#hr_cnt = train.sort(desc('hr')).collect()\n",
    "hr_cnt = train.groupBy('hr').agg({'cnt': 'sum'}).sort('hr').collect()\n",
    "\n",
    "# Dado que obtenemos una lista de filas, utiliza la siguiente línea para obtener una lista de tuplas (hora, conteo)\n",
    "hr_cnt_tuples = map(lambda row: (row[\"hr\"], row[\"sum(cnt)\"]), hr_cnt)"
   ]
  },
  {
   "cell_type": "code",
   "execution_count": 57,
   "metadata": {},
   "outputs": [
    {
     "name": "stdout",
     "output_type": "stream",
     "text": [
      "1 test passed.\n"
     ]
    }
   ],
   "source": [
    "Test.assertEquals(hr_cnt_tuples, [(0.0, 27764.0), (1.0, 16945.0), (2.0, 12037.0), (3.0, 5742.0), (4.0, 3037.0), \n",
    "                                  (5.0, 9953.0), (6.0, 37867.0), (7.0, 104967.0), (8.0, 191230.0), (9.0, 112904.0), \n",
    "                                  (10.0, 86398.0), (11.0, 105235.0), (12.0, 121349.0), (13.0, 133901.0), (14.0, 120384.0), \n",
    "                                  (15.0, 126618.0), (16.0, 163454.0), (17.0, 238527.0), (18.0, 224197.0), (19.0, 166885.0), \n",
    "                                  (20.0, 114219.0), (21.0, 86265.0), (22.0, 66939.0), (23.0, 43528.0)], \n",
    "                 'hr_cnt incorrecto. Recuerda que debe estar ordenado por horas.')"
   ]
  },
  {
   "cell_type": "code",
   "execution_count": 58,
   "metadata": {},
   "outputs": [
    {
     "data": {
      "image/png": "[encoded data removed]",
      "text/plain": [
       "<matplotlib.figure.Figure at 0x9c63c50>"
      ]
     },
     "metadata": {},
     "output_type": "display_data"
    }
   ],
   "source": [
    "# Con el siguiente plot pintamos los datos obtenidos\n",
    "plt.plot(zip(*hr_cnt_tuples)[0], zip(*hr_cnt_tuples)[1])\n",
    "plt.ylabel('Num. alquileres')\n",
    "plt.xlabel('Hora')\n",
    "plt.xlim([0, 23])\n",
    "plt.show()"
   ]
  },
  {
   "cell_type": "markdown",
   "metadata": {},
   "source": [
    "En el plot podemos ver como el número de alquileres es bajo por la noche y que a las 8 de la mañana hay un pico y otro a alas 6 de la tarde. Esto indica que `hr`puede ser de utilidad para predecir el conteo `cnt`.\n",
    "\n",
    "Si te apetece puedes intentar realizar otras visualizaciones para ver si las otras variables son de utilidad o no."
   ]
  },
  {
   "cell_type": "markdown",
   "metadata": {},
   "source": [
    "## Entrenamiento usando las Pipeline de Spark ML\n",
    "\n",
    "En este caso, tenemos un problema de regresión donde la variable a estimar es `cnt` y el resto serán las características a utilizar (tiempo, día de la semana, etc.).\n",
    "\n",
    "Vamos a crear una Pipeline simple con las siguientes fases:\n",
    "* `VectorAssembler`: Unirá todas las columnas de características en una única columna con el vector de características. Necesario para los métodos de ML en Spark ML.\n",
    "* `VectorIndexer`: Indetificará las columnas que deben ser tratadas como categóricas o nominales. Esto se realiza heurísticamente identificando las columnas con un número pequeño de valores diferentes. Para nosotros, estas serán `yr`(2 valoreS), `season` (4 valores), `holiday` (2 valores), `workingday` (2 valores) y `weathersit` (4 valores).\n",
    "* `GBTRegressor`: En este caso vamos a usar un ensemble que se llama [Gradient-Boosted Trees (GBT)](https://en.wikipedia.org/wiki/Gradient_boosting). Podemos asumir que es similar a una regresión lineal pero con otros parámetros. Le damos un vector de entrada y nos devuelve un valor de salida.\n",
    "* `CrossValidator`: El algoritmo GBT  tiene varios parámetros y ajustarlos suele tener un importante efecto en la precisión. Para el ajuste utilizaremos la validación cruzada disponible en Spark que automáticamente probará todo la malla de parámetros para elegir la mejor combinación."
   ]
  },
  {
   "cell_type": "markdown",
   "metadata": {},
   "source": [
    "Primero, definimos el procesamiento de las características para la Pipeline:\n",
    "* Unimos las características en un vecto de características\n",
    "* Identificamos las características categóricas y las indexamos"
   ]
  },
  {
   "cell_type": "code",
   "execution_count": 63,
   "metadata": {
    "collapsed": true
   },
   "outputs": [],
   "source": [
    "from pyspark.ml.feature import VectorAssembler, VectorIndexer\n",
    "featuresCols = df.columns \n",
    "featuresCols.remove('cnt') \n",
    "# Lo siguiente concatena todas las columnas de características en un único vector de características en una nueva columna \"rawFeatures\".\n",
    "vectorAssembler = VectorAssembler(inputCols=featuresCols, outputCol=\"rawFeatures\")\n",
    "# Identificamos las características categóricas y las indexamos - serán categóricas aquellas que tengan 4 o menos valores distintos\n",
    "vectorIndexer = VectorIndexer(inputCol=\"rawFeatures\", outputCol=\"features\", maxCategories=4)"
   ]
  },
  {
   "cell_type": "markdown",
   "metadata": {},
   "source": [
    "Ahora definimos la fase para el entrenamiento del modelo. `GBTRegressor` toma un vector de características y las etiquetas como entradas y aprende un modelo de regresión que luego podremos utilizar para predecir nuevos ejemplos."
   ]
  },
  {
   "cell_type": "code",
   "execution_count": 64,
   "metadata": {
    "collapsed": true
   },
   "outputs": [],
   "source": [
    "from pyspark.ml.regression import GBTRegressor\n",
    "# Toma las columna \"features\" y aprende a predecir \"cnt\"\n",
    "# Solo creamos el modelo, pero no lo entrenamos hasta usar fit()\n",
    "gbt = GBTRegressor(labelCol=\"cnt\")"
   ]
  },
  {
   "cell_type": "markdown",
   "metadata": {},
   "source": [
    "A continuación, introduciremos el modelo en una fase de validación cruzada (`CrossValidator`). Esta clase sabe cómo debe llamar a GBT con los diferentes parámetros. Aprenderá varios modelos con diferentes parámetros y elegirá el mejor respecto a la medida establecida. Dado que estamos trabajando con un problema de regresión, utilizaremos la métrica [Root Mean Squared Error (RMSE)](https://en.wikipedia.org/wiki/Root-mean-square_deviation).\n"
   ]
  },
  {
   "cell_type": "code",
   "execution_count": 71,
   "metadata": {},
   "outputs": [],
   "source": [
    "from pyspark.ml.tuning import CrossValidator, ParamGridBuilder\n",
    "from pyspark.ml.evaluation import RegressionEvaluator\n",
    "# Definición del grid de parámetros para la búsqueda:\n",
    "# - maxDepth: Es la máxima profundidad de los árboles en el ensemble GBT\n",
    "# - maxIter: El el número de iteraciones, es decir, el número de árboles en cada ensemble\n",
    "# Para que el tiempo de ejecución no sea demasiado alto, vamos a mantener estos valores bajos.\n",
    "# En la realidad, para obtener la precisión máxima sería conveniente aumentar la profundidad de los árboles (> 10) \n",
    "# e introducir más árboles en cada ensemble (> 100)\n",
    "paramGrid = ParamGridBuilder()\\\n",
    "  .addGrid(gbt.maxDepth, [2, 5])\\\n",
    "  .addGrid(gbt.maxIter, [10, 100])\\\n",
    "  .build()\n",
    "# Definimos una métrica para la evaluación, que le dirá a CrossValidator cómo de bien lo está haciendo cada modelo\n",
    "evaluator = RegressionEvaluator(metricName=\"rmse\", labelCol=gbt.getLabelCol(), predictionCol=gbt.getPredictionCol())\n",
    "\n",
    "# Declaramos el CrossValidator, que requiere de un estimator, un evaluator y los estimatorParamMaps (parámetros)\n",
    "# Consulta http://spark.apache.org/docs/2.0.2/api/python/pyspark.ml.html#pyspark.ml.tuning.CrossValidator\n",
    "cv = CrossValidator(estimator=gbt,\n",
    "                      estimatorParamMaps=paramGrid,\n",
    "                      evaluator=evaluator,\n",
    "                      numFolds=4)"
   ]
  },
  {
   "cell_type": "markdown",
   "metadata": {},
   "source": [
    "Finalmente podemos unir nuestra fase de procesamiento de características con el entrenamiento del modelo en una única `Pipeline`."
   ]
  },
  {
   "cell_type": "code",
   "execution_count": 72,
   "metadata": {
    "collapsed": true
   },
   "outputs": [],
   "source": [
    "from pyspark.ml import Pipeline\n",
    "pipeline = Pipeline(stages=[vectorAssembler, vectorIndexer, cv])"
   ]
  },
  {
   "cell_type": "markdown",
   "metadata": {},
   "source": [
    "#### Entrenamiento de la Pipeline\n",
    "\n",
    "Ahora que ya tenemos el flujo de datos definido, podemos entrenar la Pipeline completa con una única llamada a `fit()`. Esta llamada llevará a cabo el preprocesamiento de características, el ajuste de los parámetros y el entrenamiento del modelo final.\n",
    "\n",
    "Como resultado obtendremos una Pipeline ajustada (PipelineModel).\n",
    "\n",
    "**NOTA**: La próxima celda puede tardar un rato (10 minutos). Esto es necesario porque se construyen muchos árboles:\n",
    "* Para cada partición de la validación cruzada\n",
    "    * Para cada conjunto de los parámetros\n",
    "        * Se entrena un GBT con muchos árboles de decisión"
   ]
  },
  {
   "cell_type": "code",
   "execution_count": 73,
   "metadata": {},
   "outputs": [],
   "source": [
    "# Entrenar la pipeline con fit y el conjunto de train\n",
    "pipelineModel = pipeline.fit(train)"
   ]
  },
  {
   "cell_type": "markdown",
   "metadata": {},
   "source": [
    "## Realizando predicciones y evaluando los resultados obtenidos\n",
    "\n",
    "Una vez ajustados los parámetros y entrenado el modelo final, ya podemos realizar predicciones sobre datos nuevos. Utilizaremos para simularlos el conjunto de test, aunque podríamos usar datos completamente nuevos. Por ejemplo, si pudiéramos predecir las variables sobre el tiempo de la semana que viene, podríamos predecir los alquileres de bicis para la próxima semana.\n",
    "\n",
    "Ya que nuestro conjunto de test tiene los datos etiquetados, lo utilizaremos para evaluar las predicciones, lo que nos permitirá comprender la calidad de las predicciones y compararlo con otros modelos o parámetros en el futuro."
   ]
  },
  {
   "cell_type": "markdown",
   "metadata": {},
   "source": [
    "Para obtener las predicciones sobre un DataFrame, utilizamos el método `transform()` que nos devuelve un nuevo DataFrame con una nueva columna llamada `predictions` así como los resultados intermedios como `rawFeatures` etc."
   ]
  },
  {
   "cell_type": "code",
   "execution_count": 74,
   "metadata": {},
   "outputs": [],
   "source": [
    "# Utiliza el método transform() para obtener las predicciones sobre el conjunto de test\n",
    "predictions = pipelineModel.transform(test)"
   ]
  },
  {
   "cell_type": "markdown",
   "metadata": {},
   "source": [
    "Es más fácil ver los resultados si limitamos las columnas:\n",
    "* `cnt`: el número real de bicicletas alquiladas\n",
    "* `prediction`: nuestra predicción sobre el número de bicicletas alquiladas\n",
    "* columnas con las características: columnas con las características"
   ]
  },
  {
   "cell_type": "code",
   "execution_count": 77,
   "metadata": {},
   "outputs": [
    {
     "name": "stdout",
     "output_type": "stream",
     "text": [
      "+----+------------------+------+---+----+---+-------+-------+----------+----------+----+------+----+---------+\n",
      "| cnt|        prediction|season| yr|mnth| hr|holiday|weekday|workingday|weathersit|temp| atemp| hum|windspeed|\n",
      "+----+------------------+------+---+----+---+-------+-------+----------+----------+----+------+----+---------+\n",
      "|17.0|15.200365556966482|   1.0|0.0| 1.0|0.0|    0.0|    3.0|       1.0|       2.0|0.22|0.2273|0.69|   0.1343|\n",
      "|21.0|22.743147724384293|   1.0|0.0| 1.0|0.0|    0.0|    5.0|       1.0|       2.0|0.24|0.2273| 0.7|   0.2537|\n",
      "|28.0| 27.13848068524477|   1.0|0.0| 1.0|0.0|    0.0|    6.0|       0.0|       1.0|0.22| 0.197|0.64|   0.3582|\n",
      "| 1.0|-6.978537048885197|   1.0|0.0| 1.0|1.0|    0.0|    1.0|       1.0|       1.0|0.04|0.0455|0.45|    0.194|\n",
      "| 1.0|-11.32781030496607|   1.0|0.0| 1.0|1.0|    0.0|    1.0|       1.0|       1.0|0.12|0.1212| 0.5|   0.2836|\n",
      "| 7.0|-1.459687925047494|   1.0|0.0| 1.0|1.0|    0.0|    1.0|       1.0|       1.0|0.22|0.2121|0.64|   0.2537|\n",
      "| 3.0|-4.514077633793275|   1.0|0.0| 1.0|1.0|    0.0|    2.0|       1.0|       1.0|0.14|0.1515|0.59|   0.1642|\n",
      "| 6.0|-5.647076878141479|   1.0|0.0| 1.0|1.0|    0.0|    3.0|       1.0|       1.0|0.16| 0.197|0.74|   0.0896|\n",
      "| 2.0|-8.597830412839556|   1.0|0.0| 1.0|1.0|    0.0|    4.0|       1.0|       1.0|0.14|0.1212| 0.5|   0.2836|\n",
      "| 7.0|0.2588825688517231|   1.0|0.0| 1.0|1.0|    0.0|    5.0|       1.0|       2.0| 0.2| 0.197|0.69|   0.2239|\n",
      "+----+------------------+------+---+----+---+-------+-------+----------+----------+----+------+----+---------+\n",
      "only showing top 10 rows\n",
      "\n"
     ]
    }
   ],
   "source": [
    "# Utiliza un select seguido de un show para mostrar las primeras predicciones\n",
    "# En el select queremos seleccionar las columnas cnt, prediction y las existentes en featuresCols. \n",
    "# Para incluir esta última como argumento utiliza un asterisco: *featuresCols\n",
    "predictions.select('cnt','prediction',*featuresCols).show(10)"
   ]
  },
  {
   "cell_type": "markdown",
   "metadata": {},
   "source": [
    "¿Son los resultados suficientemente buenos? No son perfectos, pero parece que existe cierta correlación entre cnt y predictions y existe margen de mejora (ver última sección).\n",
    "\n",
    "Antes de terminar, vamos a ver un par de formas más para comprender mejor los resultados.\n",
    "\n",
    "**(1) Métricas**: Ver las predicciones manualmente no nos ayuda más que a tener una ligera idea de la precisión. Pero es mucho más útil tener una medida concreta. En la siguiente celda utilizaremos el evaluator creado anteriormente para obtener el RMSE en test (cuanto menor es el valor, mejor es el resultado). Aunque la métrica no dice mucho por si misma, nos permite comparar diferentes modelos."
   ]
  },
  {
   "cell_type": "code",
   "execution_count": 78,
   "metadata": {},
   "outputs": [
    {
     "name": "stdout",
     "output_type": "stream",
     "text": [
      "RMSE en test: 47.8484\n"
     ]
    }
   ],
   "source": [
    "# Utiliza el evaluator con su método evaluate para obtener el RMSE a partir del DataFrame predictions\n",
    "rmse = evaluator.evaluate(predictions)\n",
    "print \"RMSE en test: %g\" % rmse"
   ]
  },
  {
   "cell_type": "markdown",
   "metadata": {},
   "source": [
    "**(2) Visualización**: Podemos pintar las predicciones vs. las características para comprender si están siendo usadas correctamente para la predicción, de manera similar a como hemos pintado antes las características vs. el conteo real. Siguiendo con ese ejemplo anterior, vamos a ver cómo es la predicción respecto a la hora del día.\n",
    "\n",
    "*Nota: también se pueden realizar otros plots para comprar las predicciones vs. el conteo real.*"
   ]
  },
  {
   "cell_type": "code",
   "execution_count": 79,
   "metadata": {
    "collapsed": true
   },
   "outputs": [],
   "source": [
    "# Utiliza el DataFrame predictions y obtén para cada hora la suma de la columna \"prediction\", ordena el resultado por horas\n",
    "# Finalmente utiliza collect() para traer el resultado al driver\n",
    "hr_cnt = predictions.groupBy('hr').agg({'prediction':'sum'}).sort('hr').collect()\n",
    "\n",
    "# Pasamos las rows obtenidas a tuplas para pintarlas\n",
    "hr_cnt_tuples_prediction = map(lambda row: (row[\"hr\"], row[\"sum(prediction)\"]), hr_cnt)"
   ]
  },
  {
   "cell_type": "code",
   "execution_count": 80,
   "metadata": {
    "scrolled": true
   },
   "outputs": [
    {
     "data": {
      "image/png": "[encoded data removed]",
      "text/plain": [
       "<matplotlib.figure.Figure at 0xa21dd68>"
      ]
     },
     "metadata": {},
     "output_type": "display_data"
    }
   ],
   "source": [
    "# Utilizamos la lista que acabamos de obtener junto con la que teníamos antes para mostrar\n",
    "# un gráfico con el conteo real y el conteo predicho en base a las horas del día.\n",
    "plt.plot(zip(*hr_cnt_tuples)[0], zip(*hr_cnt_tuples)[1])\n",
    "plt.plot(zip(*hr_cnt_tuples_prediction)[0], zip(*hr_cnt_tuples_prediction)[1])\n",
    "plt.ylabel('Num. alquileres predichos')\n",
    "plt.xlabel('Hora')\n",
    "plt.xlim([0, 23])\n",
    "plt.legend(['Real', 'Prediccion'], loc=0)\n",
    "plt.show()"
   ]
  },
  {
   "cell_type": "markdown",
   "metadata": {},
   "source": [
    "Podemos observar como aunque la predicción no es muy acertada aparentemente, tenemos un comportamiento similar en ambas líneas, existiendo el mismo pico a las 8 de la mañana y a las 6 de la tarde. "
   ]
  },
  {
   "cell_type": "markdown",
   "metadata": {},
   "source": [
    "#### ¿Cómo mejoramos el modelo?\n",
    "\n",
    "Hay diferentes formas de mejorar el modelo obtenido:\n",
    "* **Conocimiento experto**: Puede que no seamos expertos en el alquiler de bicis, pero hay cosas que podemos aplicar:\n",
    "  * El conteo de las bicis alquiladas no puede ser negativo.  `GBTRegressor` no lo sabe, pero podemos aplicar una umbralización a posteriori y poner todas las predicciones menores que 0 a 0.\n",
    "  * El conteo de las bicis alquiladas es la suma de `registered` y `casual`. Estos dos conteos pueden tener un comportamiento muy diferente (los ciclistas frequentes y los casual alquilan bicis por diferentes razones). Los mejores modelos para este dataset tienen esto en cuenta. Puedes intentar crear un GBT para los usuarios registrados y otro para los casual y unir las predicciones para obtener la final.\n",
    "* **Mejor ajuste de parámetros**: Para que el notebook no tardara mucho, solo hemos probado unos pocos parámetros para el modelo. Deberíamos probar más valores para obtener un resultado mejor. Puede probar incrementando el número de árboles del GBT, por ejemplo, `maxIter=200`; necesitará más tiempo para el entrenamiento pero puede ser más preciso.\n",
    "* **Ingeniería de caractarerísticas / Feature engineering**: Hemos usado el conjunto básico de características, pero podríamos mejorarlo. Por ejemplo, podemos tratar de ver si el tiempo es más importante dependiendo de si es un día de trabajo o fin de semana. Para ello, podríamos construir características combinando las dos características básicas. El propio MLlib tiene varios feature transformers para realizar este tipo de tareas [ML guide](http://spark.apache.org/docs/latest/ml-features.html). También podríamos pensar si conviene más tratar los días de la semana como numéricos (como hasta ahora) o como categóricos."
   ]
  }
 ],
 "metadata": {
  "anaconda-cloud": {},
  "kernelspec": {
   "display_name": "Python 2",
   "language": "python",
   "name": "python2"
  },
  "language_info": {
   "codemirror_mode": {
    "name": "ipython",
    "version": 2
   },
   "file_extension": ".py",
   "mimetype": "text/x-python",
   "name": "python",
   "nbconvert_exporter": "python",
   "pygments_lexer": "ipython2",
   "version": "2.7.13"
  },
  "name": "MLPipeline Bike Dataset",
  "notebookId": 3638908530782568
 },
 "nbformat": 4,
 "nbformat_minor": 1
}
